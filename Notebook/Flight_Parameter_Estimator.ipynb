{
  "cells": [
    {
      "cell_type": "markdown",
      "metadata": {
        "id": "xEgra7XWIbR8"
      },
      "source": [
        "### Session-Stopper"
      ]
    },
    {
      "cell_type": "code",
      "execution_count": null,
      "metadata": {
        "id": "aheZwAZ2IPcW"
      },
      "outputs": [],
      "source": [
        "import time\n",
        "for i in range(50):\n",
        "  print('Stop: ', i)\n",
        "  time.sleep(30*60)"
      ]
    },
    {
      "cell_type": "code",
      "execution_count": 1,
      "metadata": {
        "colab": {
          "base_uri": "https://localhost:8080/"
        },
        "id": "3wJLdhgpIeaD",
        "outputId": "0d9e7cf8-9e1d-42b3-89f4-fd97c7bae1b5"
      },
      "outputs": [
        {
          "name": "stdout",
          "output_type": "stream",
          "text": [
            "\n",
            "\u001b[1m[\u001b[0m\u001b[34;49mnotice\u001b[0m\u001b[1;39;49m]\u001b[0m\u001b[39;49m A new release of pip is available: \u001b[0m\u001b[31;49m23.3.2\u001b[0m\u001b[39;49m -> \u001b[0m\u001b[32;49m24.0\u001b[0m\n",
            "\u001b[1m[\u001b[0m\u001b[34;49mnotice\u001b[0m\u001b[1;39;49m]\u001b[0m\u001b[39;49m To update, run: \u001b[0m\u001b[32;49mpip install --upgrade pip\u001b[0m\n"
          ]
        }
      ],
      "source": [
        "!pip install -q pymap3d\n",
        "# !unzip -q /content/optical-edge-dev.zip\n",
        "# !unzip -q sample-dataset-xss.zip"
      ]
    },
    {
      "cell_type": "code",
      "execution_count": 2,
      "metadata": {
        "id": "F8yEoa8KI_nB"
      },
      "outputs": [],
      "source": [
        "import os\n",
        "import matplotlib.pyplot as plt\n",
        "import cv2\n",
        "from tqdm import tqdm\n",
        "import random\n",
        "import numpy as np\n",
        "from math import atan2, asin\n",
        "import pandas as pd\n",
        "from IPython.display import display\n",
        "from pprint import pprint\n",
        "from PIL import Image\n",
        "import time\n",
        "import datetime\n",
        "import time\n",
        "import sys\n",
        "from pymap3d import geodetic2enu, enu2geodetic\n",
        "import warnings\n",
        "warnings.filterwarnings('ignore')"
      ]
    },
    {
      "cell_type": "code",
      "execution_count": 3,
      "metadata": {
        "id": "Qbz7-42uIe1b"
      },
      "outputs": [],
      "source": [
        "sys.path.append('/home/datademon/Desktop/flight-Parameter-Estimation/optical-edge-flight-params-main/optical-edge-dev')\n",
        "import pose_est\n",
        "from pose_est import *\n",
        "import vo\n",
        "from vo import Stitcher\n",
        "from vo import FeatureLocalization\n",
        "from pose_est import mat2euler"
      ]
    },
    {
      "cell_type": "code",
      "execution_count": 4,
      "metadata": {
        "id": "ZPFtnZ12RhK_"
      },
      "outputs": [],
      "source": [
        "sys.path.append('/home/datademon/Desktop/flight-Parameter-Estimation/optical-edge-flight-params-main/py_files')\n",
        "import Utils\n",
        "from Utils import jetson_timestamp_to_utc, closest_ea, closest_t, get_unix_timestamps, trans_vec_to_lla, EAE"
      ]
    },
    {
      "cell_type": "code",
      "execution_count": 27,
      "metadata": {
        "colab": {
          "base_uri": "https://localhost:8080/"
        },
        "id": "-LqVsYM2IfGa",
        "outputId": "d4a0ad1d-744f-4363-c876-ab5b0f4257a7"
      },
      "outputs": [
        {
          "data": {
            "text/plain": [
              "<module 'Utils' from '/home/datademon/Desktop/flight-Parameter-Estimation/optical-edge-flight-params-main/py_files/Utils.py'>"
            ]
          },
          "execution_count": 27,
          "metadata": {},
          "output_type": "execute_result"
        }
      ],
      "source": [
        "import importlib\n",
        "importlib.reload(vo)\n",
        "importlib.reload(Utils)"
      ]
    },
    {
      "cell_type": "code",
      "execution_count": 5,
      "metadata": {
        "id": "mClcJ64nIfTj"
      },
      "outputs": [
        {
          "name": "stdout",
          "output_type": "stream",
          "text": [
            "['strip_E243_1679940124', 'strip_E246_1679940459', 'strip_E249_1679940782', 'strip_E249_1679940514', 'strip_E243_1679940528', 'strip_E246_1679940242', 'strip_E246_1679940565', 'strip_E249_1679940606', 'strip_E249_1679940429', 'strip_E243_1679940257', 'strip_E249_1679940691', 'strip_E249_1679940867', 'strip_E243_1679940395', 'strip_E246_1679940348', 'strip_E240_1679940412']\n"
          ]
        }
      ],
      "source": [
        "sample_dataset_dir = r\"/home/datademon/Desktop/Data/cam\"\n",
        "keyword = 'str'\n",
        "sample_parent_dir = [nm for nm in os.listdir(sample_dataset_dir) if nm[:3] == keyword]\n",
        "print(sample_parent_dir)"
      ]
    },
    {
      "cell_type": "code",
      "execution_count": 16,
      "metadata": {
        "colab": {
          "base_uri": "https://localhost:8080/"
        },
        "id": "guqL5qqOIfiH",
        "outputId": "f41a4a8f-0a4b-4e14-cf48-00d532268556"
      },
      "outputs": [
        {
          "name": "stdout",
          "output_type": "stream",
          "text": [
            "Save-Path:  /home/datademon/Desktop/flight-Parameter-Estimation/optical-edge-flight-params-main/Ouputs/E246/flight_parameters_estimation_strip_E246_1679940348.csv\n",
            "No. of Samples:  279\n",
            "['img_E246_701171440362_1679940348_545907683.tiff', 'img_E246_701504729820_1679940348_879347754.tiff']\n"
          ]
        }
      ],
      "source": [
        "choice = 13\n",
        "sample_dataset_path = os.path.join(sample_dataset_dir, sample_parent_dir[choice])\n",
        "mid_dir = sample_parent_dir[choice].split('_')[1]\n",
        "save_parent_dir = f\"/home/datademon/Desktop/flight-Parameter-Estimation/optical-edge-flight-params-main/Ouputs/{mid_dir}\"\n",
        "if not os.path.isdir(save_parent_dir):\n",
        "  os.mkdir(save_parent_dir)\n",
        "save_file_name = f'{save_parent_dir}/flight_parameters_estimation_{sample_parent_dir[choice]}.csv'\n",
        "print('Save-Path: ', save_file_name)\n",
        "\n",
        "sample_dir = os.listdir(sample_dataset_path)\n",
        "sample_dir = [path for path in sample_dir if path.endswith('.tiff')]\n",
        "print('No. of Samples: ', len(sample_dir))\n",
        "\n",
        "\n",
        "def key_fn(item):\n",
        "  return item.split('_')[2]\n",
        "\n",
        "sample_dir = sorted(sample_dir, key=key_fn, reverse=False)\n",
        "print(sample_dir[:2])"
      ]
    },
    {
      "cell_type": "code",
      "execution_count": 17,
      "metadata": {
        "colab": {
          "base_uri": "https://localhost:8080/"
        },
        "id": "H02FBaRLI6Gv",
        "outputId": "4bfa9efc-fd57-4479-b222-38f25c5150ee"
      },
      "outputs": [
        {
          "name": "stdout",
          "output_type": "stream",
          "text": [
            "['2023-03-27 23:35:48.545908', '2023-03-27 23:35:48.879348', '2023-03-27 23:35:49.212076', '2023-03-27 23:35:49.545457', '2023-03-27 23:35:49.879053', '2023-03-27 23:35:50.212364', '2023-03-27 23:35:50.545656', '2023-03-27 23:35:50.878948', '2023-03-27 23:35:51.212258', '2023-03-27 23:35:51.545440', '2023-03-27 23:35:51.878264', '2023-03-27 23:35:52.211683', '2023-03-27 23:35:52.544890', '2023-03-27 23:35:52.878114', '2023-03-27 23:35:53.211506', '2023-03-27 23:35:53.544686', '2023-03-27 23:35:53.878038', '2023-03-27 23:35:54.211284', '2023-03-27 23:35:54.544564', '2023-03-27 23:35:54.877892', '2023-03-27 23:35:55.211280', '2023-03-27 23:35:55.544509', '2023-03-27 23:35:55.877747', '2023-03-27 23:35:56.210915', '2023-03-27 23:35:56.544273', '2023-03-27 23:35:56.877614', '2023-03-27 23:35:57.210861', '2023-03-27 23:35:57.544158', '2023-03-27 23:35:57.877398', '2023-03-27 23:35:58.210682', '2023-03-27 23:35:58.544011', '2023-03-27 23:35:58.877325', '2023-03-27 23:35:59.210606', '2023-03-27 23:35:59.543849', '2023-03-27 23:35:59.877152', '2023-03-27 23:36:00.210377', '2023-03-27 23:36:00.543851', '2023-03-27 23:36:00.877059', '2023-03-27 23:36:01.210264', '2023-03-27 23:36:01.543605', '2023-03-27 23:36:01.876819', '2023-03-27 23:36:02.210084', '2023-03-27 23:36:02.543554', '2023-03-27 23:36:02.876767', '2023-03-27 23:36:03.210623', '2023-03-27 23:36:03.543244', '2023-03-27 23:36:03.876607', '2023-03-27 23:36:04.209807', '2023-03-27 23:36:04.543176', '2023-03-27 23:36:04.876507', '2023-03-27 23:36:05.209685', '2023-03-27 23:36:05.543103', '2023-03-27 23:36:05.876311', '2023-03-27 23:36:06.209453', '2023-03-27 23:36:06.542866', '2023-03-27 23:36:06.876204', '2023-03-27 23:36:07.209440', '2023-03-27 23:36:07.542646', '2023-03-27 23:36:07.875961', '2023-03-27 23:36:08.209312', '2023-03-27 23:36:08.542616', '2023-03-27 23:36:08.875825', '2023-03-27 23:36:09.209179', '2023-03-27 23:36:09.542334', '2023-03-27 23:36:09.875782', '2023-03-27 23:36:10.208931', '2023-03-27 23:36:10.542296', '2023-03-27 23:36:10.875620', '2023-03-27 23:36:11.208857', '2023-03-27 23:36:11.542074', '2023-03-27 23:36:11.875409', '2023-03-27 23:36:12.208647', '2023-03-27 23:36:12.541983', '2023-03-27 23:36:12.875336', '2023-03-27 23:36:13.208550', '2023-03-27 23:36:13.541856', '2023-03-27 23:36:13.875114', '2023-03-27 23:36:14.208451', '2023-03-27 23:36:14.541617', '2023-03-27 23:36:14.874986', '2023-03-27 23:36:15.208282', '2023-03-27 23:36:15.541520', '2023-03-27 23:36:15.874870', '2023-03-27 23:36:16.208114', '2023-03-27 23:36:16.541367', '2023-03-27 23:36:16.874647', '2023-03-27 23:36:17.207986', '2023-03-27 23:36:17.541504', '2023-03-27 23:36:17.874546', '2023-03-27 23:36:18.207866', '2023-03-27 23:36:18.541107', '2023-03-27 23:36:18.874470', '2023-03-27 23:36:19.207816', '2023-03-27 23:36:19.540899', '2023-03-27 23:36:19.874189', '2023-03-27 23:36:20.207568', '2023-03-27 23:36:20.540825', '2023-03-27 23:36:20.874185', '2023-03-27 23:36:21.207408', '2023-03-27 23:36:21.540667', '2023-03-27 23:36:21.873938', '2023-03-27 23:36:22.207503', '2023-03-27 23:36:22.540542', '2023-03-27 23:36:22.873955', '2023-03-27 23:36:23.207165', '2023-03-27 23:36:23.540314', '2023-03-27 23:36:23.873648', '2023-03-27 23:36:24.206891', '2023-03-27 23:36:24.540410', '2023-03-27 23:36:24.873492', '2023-03-27 23:36:25.207112', '2023-03-27 23:36:25.540085', '2023-03-27 23:36:25.873449', '2023-03-27 23:36:26.206654', '2023-03-27 23:36:26.540023', '2023-03-27 23:36:26.873241', '2023-03-27 23:36:27.206523', '2023-03-27 23:36:27.539842', '2023-03-27 23:36:27.873065', '2023-03-27 23:36:28.206466', '2023-03-27 23:36:28.539822', '2023-03-27 23:36:28.873031', '2023-03-27 23:36:29.206242', '2023-03-27 23:36:29.539641', '2023-03-27 23:36:29.872767', '2023-03-27 23:36:30.206030', '2023-03-27 23:36:30.539448', '2023-03-27 23:36:30.872636', '2023-03-27 23:36:31.206003', '2023-03-27 23:36:31.539266', '2023-03-27 23:36:31.872448', '2023-03-27 23:36:32.205751', '2023-03-27 23:36:32.539154', '2023-03-27 23:36:32.872356', '2023-03-27 23:36:33.205629', '2023-03-27 23:36:33.538916', '2023-03-27 23:36:33.872297', '2023-03-27 23:36:34.205527', '2023-03-27 23:36:34.538755', '2023-03-27 23:36:34.872151', '2023-03-27 23:36:35.205341', '2023-03-27 23:36:35.538619', '2023-03-27 23:36:35.871880', '2023-03-27 23:36:36.205379', '2023-03-27 23:36:36.538493', '2023-03-27 23:36:36.871858', '2023-03-27 23:36:37.205110', '2023-03-27 23:36:37.538385', '2023-03-27 23:36:37.871688', '2023-03-27 23:36:38.204914', '2023-03-27 23:36:38.538247', '2023-03-27 23:36:38.871523', '2023-03-27 23:36:39.204754', '2023-03-27 23:36:39.538092', '2023-03-27 23:36:39.871408', '2023-03-27 23:36:40.204668', '2023-03-27 23:36:40.537944', '2023-03-27 23:36:40.871295', '2023-03-27 23:36:41.204546', '2023-03-27 23:36:41.537761', '2023-03-27 23:36:41.871037', '2023-03-27 23:36:42.204335', '2023-03-27 23:36:42.537610', '2023-03-27 23:36:42.870893', '2023-03-27 23:36:43.204212', '2023-03-27 23:36:43.537497', '2023-03-27 23:36:43.870748', '2023-03-27 23:36:44.204092', '2023-03-27 23:36:44.537303', '2023-03-27 23:36:44.870648', '2023-03-27 23:36:45.204004', '2023-03-27 23:36:45.537156', '2023-03-27 23:36:45.870493', '2023-03-27 23:36:46.203824', '2023-03-27 23:36:46.537018', '2023-03-27 23:36:46.870439', '2023-03-27 23:36:47.203687', '2023-03-27 23:36:47.536868', '2023-03-27 23:36:47.870239', '2023-03-27 23:36:48.203477', '2023-03-27 23:36:48.537066', '2023-03-27 23:36:48.870187', '2023-03-27 23:36:49.203393', '2023-03-27 23:36:49.536642', '2023-03-27 23:36:49.869916', '2023-03-27 23:36:50.203227', '2023-03-27 23:36:50.536467', '2023-03-27 23:36:50.869843', '2023-03-27 23:36:51.203054', '2023-03-27 23:36:51.536358', '2023-03-27 23:36:51.869576', '2023-03-27 23:36:52.203142', '2023-03-27 23:36:52.536232', '2023-03-27 23:36:52.869516', '2023-03-27 23:36:53.202825', '2023-03-27 23:36:53.536038', '2023-03-27 23:36:53.869324', '2023-03-27 23:36:54.202707', '2023-03-27 23:36:54.535950', '2023-03-27 23:36:54.869213', '2023-03-27 23:36:55.202593', '2023-03-27 23:36:55.535778', '2023-03-27 23:36:55.869306', '2023-03-27 23:36:56.202325', '2023-03-27 23:36:56.535782', '2023-03-27 23:36:56.868941', '2023-03-27 23:36:57.202297', '2023-03-27 23:36:57.535497', '2023-03-27 23:36:57.868752', '2023-03-27 23:36:58.201977', '2023-03-27 23:36:58.535357', '2023-03-27 23:36:58.868638', '2023-03-27 23:36:59.201868', '2023-03-27 23:36:59.535235', '2023-03-27 23:36:59.868457', '2023-03-27 23:37:00.201842', '2023-03-27 23:37:00.535116', '2023-03-27 23:37:00.868405', '2023-03-27 23:37:01.201652', '2023-03-27 23:37:01.534928', '2023-03-27 23:37:01.868250', '2023-03-27 23:37:02.201523', '2023-03-27 23:37:02.534770', '2023-03-27 23:37:02.868124', '2023-03-27 23:37:03.201384', '2023-03-27 23:37:03.534612', '2023-03-27 23:37:03.868043', '2023-03-27 23:37:04.201278', '2023-03-27 23:37:04.534535', '2023-03-27 23:37:04.867804', '2023-03-27 23:37:05.201258', '2023-03-27 23:37:05.534305', '2023-03-27 23:37:05.867649', '2023-03-27 23:37:06.200903', '2023-03-27 23:37:06.534115', '2023-03-27 23:37:06.867554', '2023-03-27 23:37:07.200782', '2023-03-27 23:37:07.534161', '2023-03-27 23:37:07.867364', '2023-03-27 23:37:08.200586', '2023-03-27 23:37:08.533868', '2023-03-27 23:37:08.867240', '2023-03-27 23:37:09.200531', '2023-03-27 23:37:09.533721', '2023-03-27 23:37:09.867024', '2023-03-27 23:37:10.200337', '2023-03-27 23:37:10.533576', '2023-03-27 23:37:10.866886', '2023-03-27 23:37:11.200256', '2023-03-27 23:37:11.533519', '2023-03-27 23:37:11.866726', '2023-03-27 23:37:12.200022', '2023-03-27 23:37:12.533488', '2023-03-27 23:37:12.866605', '2023-03-27 23:37:13.199981', '2023-03-27 23:37:13.533209', '2023-03-27 23:37:13.866471', '2023-03-27 23:37:14.199810', '2023-03-27 23:37:14.533028', '2023-03-27 23:37:14.866478', '2023-03-27 23:37:15.199632', '2023-03-27 23:37:15.532921', '2023-03-27 23:37:15.866247', '2023-03-27 23:37:16.199505', '2023-03-27 23:37:16.532719', '2023-03-27 23:37:16.866068', '2023-03-27 23:37:17.199378', '2023-03-27 23:37:17.532583', '2023-03-27 23:37:17.865965', '2023-03-27 23:37:18.199277', '2023-03-27 23:37:18.532570', '2023-03-27 23:37:18.865756', '2023-03-27 23:37:19.199137', '2023-03-27 23:37:19.532309', '2023-03-27 23:37:19.865676', '2023-03-27 23:37:20.198848', '2023-03-27 23:37:20.532121', '2023-03-27 23:37:20.865492', '2023-03-27 23:37:21.198777']\n",
            "Timestamps:  [1679940348.545908, 1679940348.879348, 1679940349.212076] , Timestamps-size:  279\n"
          ]
        }
      ],
      "source": [
        "timestamps_list = ['_'.join(nm.split('_')[3:5])[:-5] for nm in sample_dir]\n",
        "utc_timestamps_list = list(map(jetson_timestamp_to_utc, timestamps_list))\n",
        "\n",
        "print(utc_timestamps_list)\n",
        "\n",
        "flight_obj = {}\n",
        "rev_flight_obj = {}\n",
        "\n",
        "for time, path in zip(utc_timestamps_list, sample_dir):\n",
        "  flight_obj[time] = path\n",
        "  rev_flight_obj[path] = time\n",
        "\n",
        "unix_timestamps_list = ['_'.join(nm.split('_')[3:5])[:-5] for nm in sample_dir]\n",
        "unix_timestamps_list = list(map(get_unix_timestamps, timestamps_list))\n",
        "print('Timestamps: ', unix_timestamps_list[:3], ', Timestamps-size: ', len(unix_timestamps_list))\n",
        "\n",
        "# print()\n",
        "# print('Time-Wise Path Storages -')\n",
        "# print()\n",
        "# pprint(flight_obj)\n"
      ]
    },
    {
      "cell_type": "code",
      "execution_count": 18,
      "metadata": {
        "colab": {
          "base_uri": "https://localhost:8080/",
          "height": 354
        },
        "id": "HJWbTdw8I6aS",
        "outputId": "94ec49fb-c53d-4dff-ebab-c072b04e2d00"
      },
      "outputs": [
        {
          "data": {
            "text/plain": [
              "1679939655.8286555"
            ]
          },
          "execution_count": 18,
          "metadata": {},
          "output_type": "execute_result"
        }
      ],
      "source": [
        "combine_ins_path_all = r\"/home/datademon/Desktop/INS_Data/ins/combine_ins_E240_1679939655_time.csv\"\n",
        "combine_ins_path_time = r\"/home/datademon/Desktop/INS_Data/ins/ins_E240_1679939655_time.csv\"\n",
        "\n",
        "dtypes = {' Jetson Time': np.float64}\n",
        "df_ins_data_time = pd.read_csv(combine_ins_path_time, float_precision='high', dtype=dtypes)\n",
        "df_ins_data_all = pd.read_csv(combine_ins_path_all)\n",
        "\n",
        "# display(df_ins_data_time.head(3))\n",
        "# display(df_ins_data_all.head(3))\n",
        "df_ins_data_time[' Jetson Time'][0]"
      ]
    },
    {
      "cell_type": "code",
      "execution_count": 19,
      "metadata": {
        "colab": {
          "base_uri": "https://localhost:8080/"
        },
        "id": "BDOxLZKAI6nM",
        "outputId": "4e98e582-a7a9-4526-a7f3-b01dd3bb9b75"
      },
      "outputs": [
        {
          "name": "stdout",
          "output_type": "stream",
          "text": [
            "Columns of Interest:   Jetson Time ,  Packet Count\n"
          ]
        }
      ],
      "source": [
        "j_col = df_ins_data_time.columns[-1]\n",
        "p_col = df_ins_data_time.columns[0]\n",
        "\n",
        "print('Columns of Interest: ', j_col, ', ', p_col)"
      ]
    },
    {
      "cell_type": "code",
      "execution_count": 20,
      "metadata": {
        "id": "GjFrAg4xI6xr"
      },
      "outputs": [],
      "source": [
        "ins_jetson = list(df_ins_data_time[j_col].dropna())\n",
        "ins_jetson = [str(time).split('.')[0] + '_' + '0' for time in ins_jetson]\n",
        "utc_ins_jetson = list(map(jetson_timestamp_to_utc, ins_jetson))\n",
        "ins_flight_obj = {}\n",
        "for unix_time, utc_time in zip(ins_jetson, utc_ins_jetson):\n",
        "  ins_flight_obj[utc_time] = unix_time"
      ]
    },
    {
      "cell_type": "code",
      "execution_count": 21,
      "metadata": {
        "colab": {
          "base_uri": "https://localhost:8080/"
        },
        "id": "HeYSBwhFI7DN",
        "outputId": "13f2fcba-3342-4ecf-c1d1-202cf4377020"
      },
      "outputs": [
        {
          "name": "stdout",
          "output_type": "stream",
          "text": [
            "No. of frames: 279\n"
          ]
        }
      ],
      "source": [
        "num_frames = len(sample_dir)\n",
        "print('No. of frames:', num_frames)\n",
        "fx, fy, cx, cy = [718.8560, 718.8560, 607.1928, 185.2157]\n",
        "camera_matrix = np.array([[fx, 0, cx], [0, fy, cy], [0, 0, 1]])"
      ]
    },
    {
      "cell_type": "code",
      "execution_count": 22,
      "metadata": {
        "colab": {
          "base_uri": "https://localhost:8080/"
        },
        "id": "79XMLebLI7NF",
        "outputId": "760643c3-ebd1-46bb-b621-bdb7dba8aff3"
      },
      "outputs": [
        {
          "name": "stdout",
          "output_type": "stream",
          "text": [
            "Scale-Factor:  2.7423491862997134e-05\n"
          ]
        }
      ],
      "source": [
        "import numpy as np\n",
        "\n",
        "sensor_width = 29.3  # mm\n",
        "sensor_height = 29  # mm\n",
        "\n",
        "image_width = 1920  # in pixels\n",
        "image_height = 1200  # in pixels\n",
        "\n",
        "pixel_size_x = sensor_width / image_width\n",
        "pixel_size_y = sensor_height / image_height\n",
        "\n",
        "scale_factor_x = pixel_size_x / fx  # m/pixel\n",
        "scale_factor_y = pixel_size_y / fy  # m/pixel\n",
        "\n",
        "scale_factor = (scale_factor_x + scale_factor_y) / 2\n",
        "\n",
        "print('Scale-Factor: ', scale_factor)"
      ]
    },
    {
      "cell_type": "code",
      "execution_count": 23,
      "metadata": {
        "colab": {
          "base_uri": "https://localhost:8080/",
          "height": 196
        },
        "id": "HI2PsgAmI7io",
        "outputId": "5099c831-32c1-499a-f65d-735decc62e5c"
      },
      "outputs": [
        {
          "name": "stdout",
          "output_type": "stream",
          "text": [
            "initial_frame_timestamp:  img_E246_701171440362_1679940348_545907683.tiff\n"
          ]
        },
        {
          "name": "stderr",
          "output_type": "stream",
          "text": [
            "Processing frames: 100%|█████████▉| 278/279 [02:27<00:00,  1.89frame/s]\n"
          ]
        },
        {
          "data": {
            "text/html": [
              "<div>\n",
              "<style scoped>\n",
              "    .dataframe tbody tr th:only-of-type {\n",
              "        vertical-align: middle;\n",
              "    }\n",
              "\n",
              "    .dataframe tbody tr th {\n",
              "        vertical-align: top;\n",
              "    }\n",
              "\n",
              "    .dataframe thead th {\n",
              "        text-align: right;\n",
              "    }\n",
              "</style>\n",
              "<table border=\"1\" class=\"dataframe\">\n",
              "  <thead>\n",
              "    <tr style=\"text-align: right;\">\n",
              "      <th></th>\n",
              "      <th>Timestamps</th>\n",
              "      <th>Roll_N</th>\n",
              "      <th>Pitch_E</th>\n",
              "      <th>Yaw_U</th>\n",
              "      <th>Latitude</th>\n",
              "      <th>Longitude</th>\n",
              "      <th>Altitude</th>\n",
              "    </tr>\n",
              "  </thead>\n",
              "  <tbody>\n",
              "    <tr>\n",
              "      <th>0</th>\n",
              "      <td>1.679940e+09</td>\n",
              "      <td>1.520000</td>\n",
              "      <td>1.930000</td>\n",
              "      <td>10.480000</td>\n",
              "      <td>12.791219</td>\n",
              "      <td>80.189743</td>\n",
              "      <td>-43.610000</td>\n",
              "    </tr>\n",
              "    <tr>\n",
              "      <th>1</th>\n",
              "      <td>1.679940e+09</td>\n",
              "      <td>1.520019</td>\n",
              "      <td>1.930014</td>\n",
              "      <td>10.455241</td>\n",
              "      <td>12.791219</td>\n",
              "      <td>80.189743</td>\n",
              "      <td>-43.609994</td>\n",
              "    </tr>\n",
              "    <tr>\n",
              "      <th>2</th>\n",
              "      <td>1.679940e+09</td>\n",
              "      <td>1.520014</td>\n",
              "      <td>1.930007</td>\n",
              "      <td>10.457423</td>\n",
              "      <td>12.791219</td>\n",
              "      <td>80.189743</td>\n",
              "      <td>-43.610017</td>\n",
              "    </tr>\n",
              "  </tbody>\n",
              "</table>\n",
              "</div>"
            ],
            "text/plain": [
              "     Timestamps    Roll_N   Pitch_E      Yaw_U   Latitude  Longitude  \\\n",
              "0  1.679940e+09  1.520000  1.930000  10.480000  12.791219  80.189743   \n",
              "1  1.679940e+09  1.520019  1.930014  10.455241  12.791219  80.189743   \n",
              "2  1.679940e+09  1.520014  1.930007  10.457423  12.791219  80.189743   \n",
              "\n",
              "    Altitude  \n",
              "0 -43.610000  \n",
              "1 -43.609994  \n",
              "2 -43.610017  "
            ]
          },
          "metadata": {},
          "output_type": "display_data"
        },
        {
          "name": "stdout",
          "output_type": "stream",
          "text": [
            "Execution-time (UNIX):  147.00661492347717\n"
          ]
        }
      ],
      "source": [
        "import time\n",
        "\n",
        "initial_frame_timestamp = sample_dir[0]\n",
        "print('initial_frame_timestamp: ', initial_frame_timestamp)\n",
        "\n",
        "# ref_coordinates = [12.9, 80.2, 6.7]\n",
        "df_data = [df_ins_data_time, df_ins_data_all]\n",
        "ini_ea = closest_ea(initial_frame_timestamp, rev_flight_obj, df_data)\n",
        "ini_coordinates = closest_t(initial_frame_timestamp, rev_flight_obj, df_data)\n",
        "\n",
        "ini_frame_path = os.path.join(sample_dataset_path, sample_dir[0])\n",
        "ini_frame = np.asarray(Image.open(ini_frame_path))\n",
        "\n",
        "df_OF_cols = ['Timestamps', 'Roll_N', 'Pitch_E', 'Yaw_U', 'Latitude', 'Longitude', 'Altitude']\n",
        "roll_list, pitch_list, yaw_list, lat_list, lon_list, alt_list = [], [], [], [], [], []\n",
        "\n",
        "ft = time.time()\n",
        "\n",
        "for i in tqdm(range(num_frames), desc=\"Processing frames\", unit=\"frame\"):\n",
        "\n",
        "  roll_list.append(ini_ea[0])\n",
        "  pitch_list.append(ini_ea[1])\n",
        "  yaw_list.append(ini_ea[-1])\n",
        "  lat_list.append(ini_coordinates[0])\n",
        "  lon_list.append(ini_coordinates[1])\n",
        "  alt_list.append(ini_coordinates[-1])\n",
        "\n",
        "  if (i + 1) >= num_frames:\n",
        "    break\n",
        "\n",
        "  pass\n",
        "\n",
        "  next_frame_path = os.path.join(sample_dataset_path, sample_dir[i + 1])\n",
        "  next_frame = np.asarray(Image.open(next_frame_path))\n",
        "\n",
        "  eae = EAE(ini_frame, next_frame, FeatureLocalization)\n",
        "  one_frame_R, one_frame_t, euler_angle_rad, _ = eae.run(is_store = True)\n",
        "\n",
        "  pred_ins_euler_angle = [(prev_ea + delta_ea) for delta_ea, prev_ea in zip(list(euler_angle_rad.values()), ini_ea)]\n",
        "  lat, lon, alt = trans_vec_to_lla(one_frame_t, one_frame_R, scale_factor, ini_ea, ini_coordinates)\n",
        "\n",
        "  ini_frame = next_frame\n",
        "  ini_ea = pred_ins_euler_angle\n",
        "  ini_coordinates = [lat, lon, alt]\n",
        "\n",
        "\n",
        "df_of = pd.DataFrame(columns = df_OF_cols)\n",
        "\n",
        "data = {\n",
        "    'Timestamps': unix_timestamps_list,\n",
        "    'Roll_N': roll_list,\n",
        "    'Pitch_E': pitch_list,\n",
        "    'Yaw_U': yaw_list,\n",
        "    'Latitude': lat_list,\n",
        "    'Longitude': lon_list,\n",
        "    'Altitude': alt_list\n",
        "}\n",
        "\n",
        "\n",
        "df_of = pd.DataFrame(data)\n",
        "display(df_of.head(3))\n",
        "\n",
        "lt = time.time()\n",
        "\n",
        "print('Execution-time (UNIX): ', (lt - ft))"
      ]
    },
    {
      "cell_type": "markdown",
      "metadata": {},
      "source": [
        "#### Plotting Pitch_E & Yaw_U"
      ]
    },
    {
      "cell_type": "code",
      "execution_count": 24,
      "metadata": {},
      "outputs": [
        {
          "data": {
            "image/png": "[encoded data removed]",
            "text/plain": [
              "<Figure size 1000x500 with 2 Axes>"
            ]
          },
          "metadata": {},
          "output_type": "display_data"
        }
      ],
      "source": [
        "pitch_list = list(df_of.Pitch_E)\n",
        "yaw_list = list(df_of.Yaw_U)\n",
        "\n",
        "fig, axs = plt.subplots(1, 2, figsize = (10, 5))\n",
        "\n",
        "axs[0].plot(pitch_list, color = 'black')\n",
        "axs[0].set_title('Pitch_E')\n",
        "\n",
        "axs[1].plot(yaw_list, color = 'black')\n",
        "axs[1].set_title('Yaw_U')\n",
        "\n",
        "plt.show()"
      ]
    },
    {
      "cell_type": "code",
      "execution_count": 239,
      "metadata": {
        "id": "4CF1arlfJrSL"
      },
      "outputs": [],
      "source": [
        "df_of.to_csv(save_file_name, index=False)"
      ]
    },
    {
      "cell_type": "markdown",
      "metadata": {},
      "source": [
        "#### Some-Basic-Tests"
      ]
    },
    {
      "cell_type": "code",
      "execution_count": 20,
      "metadata": {
        "id": "BkzpVluUJriO"
      },
      "outputs": [
        {
          "name": "stdout",
          "output_type": "stream",
          "text": [
            "(3, 3)\n",
            "(1.2753999999993085e-06, -6.600599999898228e-06, 0.009571164872476117)\n",
            "(512, 512, 3) (512, 512, 3)\n",
            "(1.2753999999993085e-06, -6.600600000047929e-06, 0.009571164872476117)\n"
          ]
        }
      ],
      "source": [
        "rot_matrix = np.array([[9.999e-01, -9.570e-03, -6.588e-06], [9.5705e-03, 9.9995e01, -1.3386e-06], [6.6006e-06, 1.2754e-06, 1.000e+0]])\n",
        "print(rot_matrix.shape)\n",
        "euler_angles = mat2euler(rot_matrix, seq = 'xyz')\n",
        "print((euler_angles[-1], euler_angles[-2], euler_angles[-3]))\n",
        "\n",
        "rnd_img1, rnd_img2 = np.random.rand(512, 512, 3), np.random.rand(512, 512, 3)\n",
        "print(rnd_img1.shape, rnd_img2.shape)\n",
        "euler_angles_2 =  EAE(rnd_img1, rnd_img2, FeatureLocalization).calc_euler_angle(rot_matrix)\n",
        "print(euler_angles_2)"
      ]
    },
    {
      "cell_type": "code",
      "execution_count": null,
      "metadata": {
        "id": "fuU33JmCJru_"
      },
      "outputs": [],
      "source": []
    },
    {
      "cell_type": "code",
      "execution_count": null,
      "metadata": {
        "id": "8z06hYsOJyQU"
      },
      "outputs": [],
      "source": []
    },
    {
      "cell_type": "code",
      "execution_count": null,
      "metadata": {
        "id": "FI-vKagMJyjj"
      },
      "outputs": [],
      "source": []
    },
    {
      "cell_type": "code",
      "execution_count": null,
      "metadata": {
        "id": "u_Ka1xGPJyxi"
      },
      "outputs": [],
      "source": []
    }
  ],
  "metadata": {
    "colab": {
      "provenance": []
    },
    "kernelspec": {
      "display_name": "Python 3",
      "name": "python3"
    },
    "language_info": {
      "codemirror_mode": {
        "name": "ipython",
        "version": 3
      },
      "file_extension": ".py",
      "mimetype": "text/x-python",
      "name": "python",
      "nbconvert_exporter": "python",
      "pygments_lexer": "ipython3",
      "version": "3.10.12"
    }
  },
  "nbformat": 4,
  "nbformat_minor": 0
}
