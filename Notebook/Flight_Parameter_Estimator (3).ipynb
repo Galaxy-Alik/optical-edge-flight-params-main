{
  "cells": [
    {
      "cell_type": "markdown",
      "metadata": {
        "id": "xEgra7XWIbR8"
      },
      "source": [
        "### Session-Stopper"
      ]
    },
    {
      "cell_type": "code",
      "execution_count": null,
      "metadata": {
        "id": "aheZwAZ2IPcW"
      },
      "outputs": [],
      "source": [
        "import time\n",
        "for i in range(50):\n",
        "  print('Stop: ', i)\n",
        "  time.sleep(30*60)"
      ]
    },
    {
      "cell_type": "code",
      "execution_count": 2,
      "metadata": {
        "colab": {
          "base_uri": "https://localhost:8080/"
        },
        "id": "3wJLdhgpIeaD",
        "outputId": "0d9e7cf8-9e1d-42b3-89f4-fd97c7bae1b5"
      },
      "outputs": [
        {
          "name": "stdout",
          "output_type": "stream",
          "text": [
            "\n",
            "\u001b[1m[\u001b[0m\u001b[34;49mnotice\u001b[0m\u001b[1;39;49m]\u001b[0m\u001b[39;49m A new release of pip is available: \u001b[0m\u001b[31;49m23.3.2\u001b[0m\u001b[39;49m -> \u001b[0m\u001b[32;49m24.0\u001b[0m\n",
            "\u001b[1m[\u001b[0m\u001b[34;49mnotice\u001b[0m\u001b[1;39;49m]\u001b[0m\u001b[39;49m To update, run: \u001b[0m\u001b[32;49mpip install --upgrade pip\u001b[0m\n"
          ]
        }
      ],
      "source": [
        "!pip install -q pymap3d\n",
        "# !unzip -q /content/optical-edge-dev.zip\n",
        "# !unzip -q sample-dataset-xss.zip"
      ]
    },
    {
      "cell_type": "code",
      "execution_count": 11,
      "metadata": {
        "id": "F8yEoa8KI_nB"
      },
      "outputs": [],
      "source": [
        "import os\n",
        "import matplotlib.pyplot as plt\n",
        "import cv2\n",
        "from tqdm import tqdm\n",
        "import random\n",
        "import numpy as np\n",
        "from math import atan2, asin\n",
        "import pandas as pd\n",
        "from IPython.display import display\n",
        "from pprint import pprint\n",
        "from PIL import Image\n",
        "import time\n",
        "import datetime\n",
        "import time\n",
        "import sys\n",
        "from pymap3d import geodetic2enu, enu2geodetic\n",
        "import warnings\n",
        "warnings.filterwarnings('ignore')"
      ]
    },
    {
      "cell_type": "code",
      "execution_count": 7,
      "metadata": {
        "id": "Qbz7-42uIe1b"
      },
      "outputs": [],
      "source": [
        "sys.path.append('/home/datademon/Desktop/flight-Parameter-Estimation/optical-edge-flight-params-main/optical-edge-dev')\n",
        "import pose_est\n",
        "from pose_est import *\n",
        "import vo\n",
        "from vo import Stitcher\n",
        "from vo import FeatureLocalization"
      ]
    },
    {
      "cell_type": "code",
      "execution_count": 9,
      "metadata": {
        "id": "ZPFtnZ12RhK_"
      },
      "outputs": [],
      "source": [
        "sys.path.append('/home/datademon/Desktop/flight-Parameter-Estimation/optical-edge-flight-params-main/py_files')\n",
        "import Utils\n",
        "from Utils import jetson_timestamp_to_utc, closest_ea, closest_t, get_unix_timestamps, trans_vec_to_lla, EAE"
      ]
    },
    {
      "cell_type": "code",
      "execution_count": 24,
      "metadata": {
        "colab": {
          "base_uri": "https://localhost:8080/"
        },
        "id": "-LqVsYM2IfGa",
        "outputId": "d4a0ad1d-744f-4363-c876-ab5b0f4257a7"
      },
      "outputs": [
        {
          "data": {
            "text/plain": [
              "<module 'Utils' from '/content/Utils.py'>"
            ]
          },
          "execution_count": 24,
          "metadata": {},
          "output_type": "execute_result"
        }
      ],
      "source": [
        "import importlib\n",
        "importlib.reload(vo)\n",
        "importlib.reload(Utils)"
      ]
    },
    {
      "cell_type": "code",
      "execution_count": 80,
      "metadata": {
        "id": "mClcJ64nIfTj"
      },
      "outputs": [
        {
          "name": "stdout",
          "output_type": "stream",
          "text": [
            "['strip_E243_1679940124', 'strip_E246_1679940459', 'strip_E249_1679940782', 'strip_E249_1679940514', 'strip_E243_1679940528', 'strip_E246_1679940242', 'strip_E246_1679940565', 'strip_E249_1679940606', 'strip_E249_1679940429', 'strip_E243_1679940257', 'strip_E249_1679940691', 'strip_E249_1679940867', 'strip_E243_1679940395', 'strip_E246_1679940348', 'strip_E240_1679940412']\n"
          ]
        }
      ],
      "source": [
        "sample_dataset_dir = r\"/home/datademon/Desktop/Data/cam\"\n",
        "keyword = 'str'\n",
        "sample_parent_dir = [nm for nm in os.listdir(sample_dataset_dir) if nm[:3] == keyword]\n",
        "print(sample_parent_dir)"
      ]
    },
    {
      "cell_type": "code",
      "execution_count": 231,
      "metadata": {
        "colab": {
          "base_uri": "https://localhost:8080/"
        },
        "id": "guqL5qqOIfiH",
        "outputId": "f41a4a8f-0a4b-4e14-cf48-00d532268556"
      },
      "outputs": [
        {
          "name": "stdout",
          "output_type": "stream",
          "text": [
            "Save-Path:  /home/datademon/Desktop/flight-Parameter-Estimation/optical-edge-flight-params-main/Ouputs/E240/flight_parameters_estimation_strip_E240_1679940412.csv\n",
            "No. of Samples:  366\n",
            "['img_E240_765433532052_1679940412_920000002.tiff', 'img_E240_765766824480_1679940413_253274981.tiff']\n"
          ]
        }
      ],
      "source": [
        "choice = 14\n",
        "sample_dataset_path = os.path.join(sample_dataset_dir, sample_parent_dir[choice])\n",
        "mid_dir = sample_parent_dir[choice].split('_')[1]\n",
        "save_parent_dir = f\"/home/datademon/Desktop/flight-Parameter-Estimation/optical-edge-flight-params-main/Ouputs/{mid_dir}\"\n",
        "if not os.path.isdir(save_parent_dir):\n",
        "  os.mkdir(save_parent_dir)\n",
        "save_file_name = f'{save_parent_dir}/flight_parameters_estimation_{sample_parent_dir[choice]}.csv'\n",
        "print('Save-Path: ', save_file_name)\n",
        "\n",
        "sample_dir = os.listdir(sample_dataset_path)\n",
        "sample_dir = [path for path in sample_dir if path.endswith('.tiff')]\n",
        "print('No. of Samples: ', len(sample_dir))\n",
        "\n",
        "\n",
        "def key_fn(item):\n",
        "  return item.split('_')[2]\n",
        "\n",
        "sample_dir = sorted(sample_dir, key=key_fn, reverse=False)\n",
        "print(sample_dir[:2])"
      ]
    },
    {
      "cell_type": "code",
      "execution_count": 232,
      "metadata": {
        "colab": {
          "base_uri": "https://localhost:8080/"
        },
        "id": "H02FBaRLI6Gv",
        "outputId": "4bfa9efc-fd57-4479-b222-38f25c5150ee"
      },
      "outputs": [
        {
          "name": "stdout",
          "output_type": "stream",
          "text": [
            "['2023-03-27 23:36:52.920000', '2023-03-27 23:36:53.253275', '2023-03-27 23:36:53.586879', '2023-03-27 23:36:53.919836', '2023-03-27 23:36:54.253198', '2023-03-27 23:36:54.586527', '2023-03-27 23:36:54.919691', '2023-03-27 23:36:55.253004', '2023-03-27 23:36:55.586379', '2023-03-27 23:36:55.919546', '2023-03-27 23:36:56.252343', '2023-03-27 23:36:56.585776', '2023-03-27 23:36:56.919014', '2023-03-27 23:36:57.252227', '2023-03-27 23:36:57.585587', '2023-03-27 23:36:57.918907', '2023-03-27 23:36:58.252084', '2023-03-27 23:36:58.585416', '2023-03-27 23:36:58.919017', '2023-03-27 23:36:59.251990', '2023-03-27 23:36:59.585379', '2023-03-27 23:36:59.918621', '2023-03-27 23:37:00.251932', '2023-03-27 23:37:00.585161', '2023-03-27 23:37:00.918660', '2023-03-27 23:37:01.251845', '2023-03-27 23:37:01.584951', '2023-03-27 23:37:01.918337', '2023-03-27 23:37:02.251499', '2023-03-27 23:37:02.584830', '2023-03-27 23:37:02.918138', '2023-03-27 23:37:03.251428', '2023-03-27 23:37:03.584736', '2023-03-27 23:37:03.918130', '2023-03-27 23:37:04.251251', '2023-03-27 23:37:04.584685', '2023-03-27 23:37:04.917840', '2023-03-27 23:37:05.251127', '2023-03-27 23:37:05.584412', '2023-03-27 23:37:05.917649', '2023-03-27 23:37:06.251030', '2023-03-27 23:37:06.584278', '2023-03-27 23:37:06.917602', '2023-03-27 23:37:07.250881', '2023-03-27 23:37:07.584263', '2023-03-27 23:37:07.917442', '2023-03-27 23:37:08.250761', '2023-03-27 23:37:08.583946', '2023-03-27 23:37:08.917281', '2023-03-27 23:37:09.250674', '2023-03-27 23:37:09.583891', '2023-03-27 23:37:09.917143', '2023-03-27 23:37:10.250481', '2023-03-27 23:37:10.583709', '2023-03-27 23:37:10.917050', '2023-03-27 23:37:11.250348', '2023-03-27 23:37:11.583583', '2023-03-27 23:37:11.916856', '2023-03-27 23:37:12.250100', '2023-03-27 23:37:12.583496', '2023-03-27 23:37:12.916704', '2023-03-27 23:37:13.249975', '2023-03-27 23:37:13.583336', '2023-03-27 23:37:13.916558', '2023-03-27 23:37:14.249877', '2023-03-27 23:37:14.583124', '2023-03-27 23:37:14.916449', '2023-03-27 23:37:15.249743', '2023-03-27 23:37:15.583119', '2023-03-27 23:37:15.916372', '2023-03-27 23:37:16.249674', '2023-03-27 23:37:16.582901', '2023-03-27 23:37:16.916133', '2023-03-27 23:37:17.249430', '2023-03-27 23:37:17.582747', '2023-03-27 23:37:17.916074', '2023-03-27 23:37:18.249299', '2023-03-27 23:37:18.582755', '2023-03-27 23:37:18.915886', '2023-03-27 23:37:19.249337', '2023-03-27 23:37:19.582515', '2023-03-27 23:37:19.915738', '2023-03-27 23:37:20.248983', '2023-03-27 23:37:20.582391', '2023-03-27 23:37:20.915554', '2023-03-27 23:37:21.248809', '2023-03-27 23:37:21.582172', '2023-03-27 23:37:21.915533', '2023-03-27 23:37:22.248681', '2023-03-27 23:37:22.581901', '2023-03-27 23:37:22.915271', '2023-03-27 23:37:23.248549', '2023-03-27 23:37:23.581851', '2023-03-27 23:37:23.915127', '2023-03-27 23:37:24.248479', '2023-03-27 23:37:24.581716', '2023-03-27 23:37:24.915010', '2023-03-27 23:37:25.248284', '2023-03-27 23:37:25.581611', '2023-03-27 23:37:25.914899', '2023-03-27 23:37:26.248149', '2023-03-27 23:37:26.581499', '2023-03-27 23:37:26.914794', '2023-03-27 23:37:27.248078', '2023-03-27 23:37:27.581209', '2023-03-27 23:37:27.914594', '2023-03-27 23:37:28.247797', '2023-03-27 23:37:28.581114', '2023-03-27 23:37:28.914460', '2023-03-27 23:37:29.247655', '2023-03-27 23:37:29.580947', '2023-03-27 23:37:29.914344', '2023-03-27 23:37:30.247664', '2023-03-27 23:37:30.580866', '2023-03-27 23:37:30.914284', '2023-03-27 23:37:31.247378', '2023-03-27 23:37:31.580902', '2023-03-27 23:37:31.913971', '2023-03-27 23:37:32.247278', '2023-03-27 23:37:32.580502', '2023-03-27 23:37:32.913870', '2023-03-27 23:37:33.247138', '2023-03-27 23:37:33.580421', '2023-03-27 23:37:33.913781', '2023-03-27 23:37:34.246964', '2023-03-27 23:37:34.580345', '2023-03-27 23:37:34.913585', '2023-03-27 23:37:35.246883', '2023-03-27 23:37:35.580129', '2023-03-27 23:37:35.913493', '2023-03-27 23:37:36.246719', '2023-03-27 23:37:36.579981', '2023-03-27 23:37:36.913256', '2023-03-27 23:37:37.246757', '2023-03-27 23:37:37.579875', '2023-03-27 23:37:37.913086', '2023-03-27 23:37:38.246571', '2023-03-27 23:37:38.579787', '2023-03-27 23:37:38.913254', '2023-03-27 23:37:39.246220', '2023-03-27 23:37:39.579589', '2023-03-27 23:37:39.912822', '2023-03-27 23:37:40.246163', '2023-03-27 23:37:40.579406', '2023-03-27 23:37:40.912682', '2023-03-27 23:37:41.246074', '2023-03-27 23:37:41.579253', '2023-03-27 23:37:41.912606', '2023-03-27 23:37:42.245827', '2023-03-27 23:37:42.579335', '2023-03-27 23:37:42.912420', '2023-03-27 23:37:43.245722', '2023-03-27 23:37:43.578997', '2023-03-27 23:37:43.912260', '2023-03-27 23:37:44.245552', '2023-03-27 23:37:44.578858', '2023-03-27 23:37:44.912203', '2023-03-27 23:37:45.245466', '2023-03-27 23:37:45.578736', '2023-03-27 23:37:45.911948', '2023-03-27 23:37:46.245369', '2023-03-27 23:37:46.578627', '2023-03-27 23:37:46.911899', '2023-03-27 23:37:47.245173', '2023-03-27 23:37:47.578828', '2023-03-27 23:37:47.911704', '2023-03-27 23:37:48.245026', '2023-03-27 23:37:48.578339', '2023-03-27 23:37:48.911577', '2023-03-27 23:37:49.244985', '2023-03-27 23:37:49.578144', '2023-03-27 23:37:49.911426', '2023-03-27 23:37:50.244690', '2023-03-27 23:37:50.578141', '2023-03-27 23:37:50.911260', '2023-03-27 23:37:51.244732', '2023-03-27 23:37:51.577880', '2023-03-27 23:37:51.911194', '2023-03-27 23:37:52.244365', '2023-03-27 23:37:52.577652', '2023-03-27 23:37:52.911016', '2023-03-27 23:37:53.244258', '2023-03-27 23:37:53.577567', '2023-03-27 23:37:53.910882', '2023-03-27 23:37:54.244202', '2023-03-27 23:37:54.577349', '2023-03-27 23:37:54.910764', '2023-03-27 23:37:55.244047', '2023-03-27 23:37:55.577252', '2023-03-27 23:37:55.910644', '2023-03-27 23:37:56.243805', '2023-03-27 23:37:56.577119', '2023-03-27 23:37:56.910544', '2023-03-27 23:37:57.243913', '2023-03-27 23:37:57.577084', '2023-03-27 23:37:57.910428', '2023-03-27 23:37:58.243523', '2023-03-27 23:37:58.576861', '2023-03-27 23:37:58.910212', '2023-03-27 23:37:59.243575', '2023-03-27 23:37:59.576689', '2023-03-27 23:37:59.909967', '2023-03-27 23:38:00.243231', '2023-03-27 23:38:00.576498', '2023-03-27 23:38:00.909879', '2023-03-27 23:38:01.243210', '2023-03-27 23:38:01.576632', '2023-03-27 23:38:01.909719', '2023-03-27 23:38:02.243223', '2023-03-27 23:38:02.576522', '2023-03-27 23:38:02.909629', '2023-03-27 23:38:03.242882', '2023-03-27 23:38:03.576103', '2023-03-27 23:38:03.909431', '2023-03-27 23:38:04.242715', '2023-03-27 23:38:04.575992', '2023-03-27 23:38:04.909212', '2023-03-27 23:38:05.242639', '2023-03-27 23:38:05.575790', '2023-03-27 23:38:05.909253', '2023-03-27 23:38:06.242542', '2023-03-27 23:38:06.575726', '2023-03-27 23:38:06.909082', '2023-03-27 23:38:07.242308', '2023-03-27 23:38:07.575676', '2023-03-27 23:38:07.908917', '2023-03-27 23:38:08.242187', '2023-03-27 23:38:08.575452', '2023-03-27 23:38:08.908797', '2023-03-27 23:38:09.242021', '2023-03-27 23:38:09.575454', '2023-03-27 23:38:09.908589', '2023-03-27 23:38:10.241875', '2023-03-27 23:38:10.575126', '2023-03-27 23:38:10.908473', '2023-03-27 23:38:11.241775', '2023-03-27 23:38:11.575023', '2023-03-27 23:38:11.908310', '2023-03-27 23:38:12.241616', '2023-03-27 23:38:12.574869', '2023-03-27 23:38:12.908278', '2023-03-27 23:38:13.241556', '2023-03-27 23:38:13.574797', '2023-03-27 23:38:13.908006', '2023-03-27 23:38:14.241262', '2023-03-27 23:38:14.574774', '2023-03-27 23:38:14.907928', '2023-03-27 23:38:15.241188', '2023-03-27 23:38:15.574681', '2023-03-27 23:38:15.907779', '2023-03-27 23:38:16.241033', '2023-03-27 23:38:16.574387', '2023-03-27 23:38:16.907620', '2023-03-27 23:38:17.240901', '2023-03-27 23:38:17.574208', '2023-03-27 23:38:17.907378', '2023-03-27 23:38:18.240820', '2023-03-27 23:38:18.573988', '2023-03-27 23:38:18.907313', '2023-03-27 23:38:19.240615', '2023-03-27 23:38:19.573891', '2023-03-27 23:38:19.907158', '2023-03-27 23:38:20.240608', '2023-03-27 23:38:20.573755', '2023-03-27 23:38:20.906965', '2023-03-27 23:38:21.240421', '2023-03-27 23:38:21.573563', '2023-03-27 23:38:21.907012', '2023-03-27 23:38:22.240162', '2023-03-27 23:38:22.573442', '2023-03-27 23:38:22.906746', '2023-03-27 23:38:23.240003', '2023-03-27 23:38:23.573284', '2023-03-27 23:38:23.906621', '2023-03-27 23:38:24.239808', '2023-03-27 23:38:24.573110', '2023-03-27 23:38:24.906624', '2023-03-27 23:38:25.239724', '2023-03-27 23:38:25.573124', '2023-03-27 23:38:25.906368', '2023-03-27 23:38:26.239581', '2023-03-27 23:38:26.572839', '2023-03-27 23:38:26.906090', '2023-03-27 23:38:27.239444', '2023-03-27 23:38:27.572656', '2023-03-27 23:38:27.905968', '2023-03-27 23:38:28.240446', '2023-03-27 23:38:28.572655', '2023-03-27 23:38:28.905910', '2023-03-27 23:38:29.239100', '2023-03-27 23:38:29.572433', '2023-03-27 23:38:29.905779', '2023-03-27 23:38:30.239009', '2023-03-27 23:38:30.572439', '2023-03-27 23:38:30.905584', '2023-03-27 23:38:31.238884', '2023-03-27 23:38:31.572190', '2023-03-27 23:38:31.905335', '2023-03-27 23:38:32.238927', '2023-03-27 23:38:32.571972', '2023-03-27 23:38:32.905252', '2023-03-27 23:38:33.238734', '2023-03-27 23:38:33.572262', '2023-03-27 23:38:33.905143', '2023-03-27 23:38:34.238664', '2023-03-27 23:38:34.571721', '2023-03-27 23:38:34.905074', '2023-03-27 23:38:35.238340', '2023-03-27 23:38:35.571496', '2023-03-27 23:38:35.904871', '2023-03-27 23:38:36.238151', '2023-03-27 23:38:36.571496', '2023-03-27 23:38:36.904772', '2023-03-27 23:38:37.237928', '2023-03-27 23:38:37.571307', '2023-03-27 23:38:37.904705', '2023-03-27 23:38:38.237855', '2023-03-27 23:38:38.571074', '2023-03-27 23:38:38.904437', '2023-03-27 23:38:39.237673', '2023-03-27 23:38:39.570981', '2023-03-27 23:38:39.904241', '2023-03-27 23:38:40.237644', '2023-03-27 23:38:40.570886', '2023-03-27 23:38:40.904470', '2023-03-27 23:38:41.237431', '2023-03-27 23:38:41.570768', '2023-03-27 23:38:41.904017', '2023-03-27 23:38:42.237304', '2023-03-27 23:38:42.570703', '2023-03-27 23:38:42.903828', '2023-03-27 23:38:43.237099', '2023-03-27 23:38:43.570475', '2023-03-27 23:38:43.903786', '2023-03-27 23:38:44.237410', '2023-03-27 23:38:44.570451', '2023-03-27 23:38:44.903648', '2023-03-27 23:38:45.236839', '2023-03-27 23:38:45.570141', '2023-03-27 23:38:45.903464', '2023-03-27 23:38:46.236788', '2023-03-27 23:38:46.570047', '2023-03-27 23:38:46.903291', '2023-03-27 23:38:47.236586', '2023-03-27 23:38:47.569862', '2023-03-27 23:38:47.903271', '2023-03-27 23:38:48.236415', '2023-03-27 23:38:48.569912', '2023-03-27 23:38:48.903114', '2023-03-27 23:38:49.236302', '2023-03-27 23:38:49.569648', '2023-03-27 23:38:49.903004', '2023-03-27 23:38:50.236174', '2023-03-27 23:38:50.569513', '2023-03-27 23:38:50.902781', '2023-03-27 23:38:51.236014', '2023-03-27 23:38:51.569276', '2023-03-27 23:38:51.902628', '2023-03-27 23:38:52.235862', '2023-03-27 23:38:52.569303', '2023-03-27 23:38:52.902527', '2023-03-27 23:38:53.235873', '2023-03-27 23:38:53.569073', '2023-03-27 23:38:53.902290', '2023-03-27 23:38:54.235545', '2023-03-27 23:38:54.568909']\n",
            "Timestamps:  [1679940412.92, 1679940413.253275, 1679940413.586879] , Timestamps-size:  366\n"
          ]
        }
      ],
      "source": [
        "timestamps_list = ['_'.join(nm.split('_')[3:5])[:-5] for nm in sample_dir]\n",
        "utc_timestamps_list = list(map(jetson_timestamp_to_utc, timestamps_list))\n",
        "\n",
        "print(utc_timestamps_list)\n",
        "\n",
        "flight_obj = {}\n",
        "rev_flight_obj = {}\n",
        "\n",
        "for time, path in zip(utc_timestamps_list, sample_dir):\n",
        "  flight_obj[time] = path\n",
        "  rev_flight_obj[path] = time\n",
        "\n",
        "unix_timestamps_list = ['_'.join(nm.split('_')[3:5])[:-5] for nm in sample_dir]\n",
        "unix_timestamps_list = list(map(get_unix_timestamps, timestamps_list))\n",
        "print('Timestamps: ', unix_timestamps_list[:3], ', Timestamps-size: ', len(unix_timestamps_list))\n",
        "\n",
        "# print()\n",
        "# print('Time-Wise Path Storages -')\n",
        "# print()\n",
        "# pprint(flight_obj)\n"
      ]
    },
    {
      "cell_type": "code",
      "execution_count": 233,
      "metadata": {
        "colab": {
          "base_uri": "https://localhost:8080/",
          "height": 354
        },
        "id": "HJWbTdw8I6aS",
        "outputId": "94ec49fb-c53d-4dff-ebab-c072b04e2d00"
      },
      "outputs": [
        {
          "data": {
            "text/plain": [
              "1679939655.8286555"
            ]
          },
          "execution_count": 233,
          "metadata": {},
          "output_type": "execute_result"
        }
      ],
      "source": [
        "combine_ins_path_all = r\"/home/datademon/Desktop/INS_Data/ins/combine_ins_E240_1679939655_time.csv\"\n",
        "combine_ins_path_time = r\"/home/datademon/Desktop/INS_Data/ins/ins_E240_1679939655_time.csv\"\n",
        "\n",
        "dtypes = {' Jetson Time': np.float64}\n",
        "df_ins_data_time = pd.read_csv(combine_ins_path_time, float_precision='high', dtype=dtypes)\n",
        "df_ins_data_all = pd.read_csv(combine_ins_path_all)\n",
        "\n",
        "# display(df_ins_data_time.head(3))\n",
        "# display(df_ins_data_all.head(3))\n",
        "df_ins_data_time[' Jetson Time'][0]"
      ]
    },
    {
      "cell_type": "code",
      "execution_count": 234,
      "metadata": {
        "colab": {
          "base_uri": "https://localhost:8080/"
        },
        "id": "BDOxLZKAI6nM",
        "outputId": "4e98e582-a7a9-4526-a7f3-b01dd3bb9b75"
      },
      "outputs": [
        {
          "name": "stdout",
          "output_type": "stream",
          "text": [
            "Columns of Interest:   Jetson Time ,  Packet Count\n"
          ]
        }
      ],
      "source": [
        "j_col = df_ins_data_time.columns[-1]\n",
        "p_col = df_ins_data_time.columns[0]\n",
        "\n",
        "print('Columns of Interest: ', j_col, ', ', p_col)"
      ]
    },
    {
      "cell_type": "code",
      "execution_count": 235,
      "metadata": {
        "id": "GjFrAg4xI6xr"
      },
      "outputs": [],
      "source": [
        "ins_jetson = list(df_ins_data_time[j_col].dropna())\n",
        "ins_jetson = [str(time).split('.')[0] + '_' + '0' for time in ins_jetson]\n",
        "utc_ins_jetson = list(map(jetson_timestamp_to_utc, ins_jetson))\n",
        "ins_flight_obj = {}\n",
        "for unix_time, utc_time in zip(ins_jetson, utc_ins_jetson):\n",
        "  ins_flight_obj[utc_time] = unix_time"
      ]
    },
    {
      "cell_type": "code",
      "execution_count": 236,
      "metadata": {
        "colab": {
          "base_uri": "https://localhost:8080/"
        },
        "id": "HeYSBwhFI7DN",
        "outputId": "13f2fcba-3342-4ecf-c1d1-202cf4377020"
      },
      "outputs": [
        {
          "name": "stdout",
          "output_type": "stream",
          "text": [
            "No. of frames: 366\n"
          ]
        }
      ],
      "source": [
        "num_frames = len(sample_dir)\n",
        "print('No. of frames:', num_frames)\n",
        "fx, fy, cx, cy = [718.8560, 718.8560, 607.1928, 185.2157]\n",
        "camera_matrix = np.array([[fx, 0, cx], [0, fy, cy], [0, 0, 1]])"
      ]
    },
    {
      "cell_type": "code",
      "execution_count": 237,
      "metadata": {
        "colab": {
          "base_uri": "https://localhost:8080/"
        },
        "id": "79XMLebLI7NF",
        "outputId": "760643c3-ebd1-46bb-b621-bdb7dba8aff3"
      },
      "outputs": [
        {
          "name": "stdout",
          "output_type": "stream",
          "text": [
            "Scale-Factor:  2.9291171332310313e-05\n"
          ]
        }
      ],
      "source": [
        "import numpy as np\n",
        "\n",
        "sensor_width = 29.3  # mm\n",
        "sensor_height = 29  # mm\n",
        "\n",
        "image_width = 1920  # in pixels\n",
        "image_height = 1080  # in pixels\n",
        "\n",
        "pixel_size_x = sensor_width / image_width\n",
        "pixel_size_y = sensor_height / image_height\n",
        "\n",
        "scale_factor_x = pixel_size_x / fx  # m/pixel\n",
        "scale_factor_y = pixel_size_y / fy  # m/pixel\n",
        "\n",
        "scale_factor = (scale_factor_x + scale_factor_y) / 2\n",
        "\n",
        "print('Scale-Factor: ', scale_factor)"
      ]
    },
    {
      "cell_type": "code",
      "execution_count": 238,
      "metadata": {
        "colab": {
          "base_uri": "https://localhost:8080/",
          "height": 196
        },
        "id": "HI2PsgAmI7io",
        "outputId": "5099c831-32c1-499a-f65d-735decc62e5c"
      },
      "outputs": [
        {
          "name": "stdout",
          "output_type": "stream",
          "text": [
            "initial_frame_timestamp:  img_E240_765433532052_1679940412_920000002.tiff\n"
          ]
        },
        {
          "name": "stderr",
          "output_type": "stream",
          "text": [
            "Processing frames: 100%|█████████▉| 365/366 [03:19<00:00,  1.83frame/s]\n"
          ]
        },
        {
          "data": {
            "text/html": [
              "<div>\n",
              "<style scoped>\n",
              "    .dataframe tbody tr th:only-of-type {\n",
              "        vertical-align: middle;\n",
              "    }\n",
              "\n",
              "    .dataframe tbody tr th {\n",
              "        vertical-align: top;\n",
              "    }\n",
              "\n",
              "    .dataframe thead th {\n",
              "        text-align: right;\n",
              "    }\n",
              "</style>\n",
              "<table border=\"1\" class=\"dataframe\">\n",
              "  <thead>\n",
              "    <tr style=\"text-align: right;\">\n",
              "      <th></th>\n",
              "      <th>Timestamps</th>\n",
              "      <th>Roll_N</th>\n",
              "      <th>Pitch_E</th>\n",
              "      <th>Yaw_U</th>\n",
              "      <th>Latitude</th>\n",
              "      <th>Longitude</th>\n",
              "      <th>Altitude</th>\n",
              "    </tr>\n",
              "  </thead>\n",
              "  <tbody>\n",
              "    <tr>\n",
              "      <th>0</th>\n",
              "      <td>1.679940e+09</td>\n",
              "      <td>NaN</td>\n",
              "      <td>NaN</td>\n",
              "      <td>NaN</td>\n",
              "      <td>NaN</td>\n",
              "      <td>NaN</td>\n",
              "      <td>NaN</td>\n",
              "    </tr>\n",
              "    <tr>\n",
              "      <th>1</th>\n",
              "      <td>1.679940e+09</td>\n",
              "      <td>NaN</td>\n",
              "      <td>NaN</td>\n",
              "      <td>NaN</td>\n",
              "      <td>NaN</td>\n",
              "      <td>NaN</td>\n",
              "      <td>NaN</td>\n",
              "    </tr>\n",
              "    <tr>\n",
              "      <th>2</th>\n",
              "      <td>1.679940e+09</td>\n",
              "      <td>NaN</td>\n",
              "      <td>NaN</td>\n",
              "      <td>NaN</td>\n",
              "      <td>NaN</td>\n",
              "      <td>NaN</td>\n",
              "      <td>NaN</td>\n",
              "    </tr>\n",
              "  </tbody>\n",
              "</table>\n",
              "</div>"
            ],
            "text/plain": [
              "     Timestamps  Roll_N  Pitch_E  Yaw_U  Latitude  Longitude  Altitude\n",
              "0  1.679940e+09     NaN      NaN    NaN       NaN        NaN       NaN\n",
              "1  1.679940e+09     NaN      NaN    NaN       NaN        NaN       NaN\n",
              "2  1.679940e+09     NaN      NaN    NaN       NaN        NaN       NaN"
            ]
          },
          "metadata": {},
          "output_type": "display_data"
        },
        {
          "name": "stdout",
          "output_type": "stream",
          "text": [
            "Execution-time (UNIX):  199.0137255191803\n"
          ]
        }
      ],
      "source": [
        "import time\n",
        "\n",
        "initial_frame_timestamp = sample_dir[0]\n",
        "print('initial_frame_timestamp: ', initial_frame_timestamp)\n",
        "\n",
        "# ref_coordinates = [12.9, 80.2, 6.7]\n",
        "df_data = [df_ins_data_time, df_ins_data_all]\n",
        "ini_ea = closest_ea(initial_frame_timestamp, rev_flight_obj, df_data)\n",
        "ini_coordinates = closest_t(initial_frame_timestamp, rev_flight_obj, df_data)\n",
        "\n",
        "ini_frame_path = os.path.join(sample_dataset_path, sample_dir[0])\n",
        "ini_frame = np.asarray(Image.open(ini_frame_path))\n",
        "\n",
        "df_OF_cols = ['Timestamps', 'Roll_N', 'Pitch_E', 'Yaw_U', 'Latitude', 'Longitude', 'Altitude']\n",
        "roll_list, pitch_list, yaw_list, lat_list, lon_list, alt_list = [], [], [], [], [], []\n",
        "\n",
        "ft = time.time()\n",
        "\n",
        "for i in tqdm(range(num_frames), desc=\"Processing frames\", unit=\"frame\"):\n",
        "\n",
        "  roll_list.append(ini_ea[0])\n",
        "  pitch_list.append(ini_ea[1])\n",
        "  yaw_list.append(ini_ea[-1])\n",
        "  lat_list.append(ini_coordinates[0])\n",
        "  lon_list.append(ini_coordinates[1])\n",
        "  alt_list.append(ini_coordinates[-1])\n",
        "\n",
        "  if (i + 1) >= num_frames:\n",
        "    break\n",
        "\n",
        "  pass\n",
        "\n",
        "  next_frame_path = os.path.join(sample_dataset_path, sample_dir[i + 1])\n",
        "  next_frame = np.asarray(Image.open(next_frame_path))\n",
        "\n",
        "  eae = EAE(ini_frame, next_frame, FeatureLocalization)\n",
        "  one_frame_R, one_frame_t, euler_angle_rad, _ = eae.run(is_store = True)\n",
        "\n",
        "  pred_ins_euler_angle = [(prev_ea + delta_ea) for delta_ea, prev_ea in zip(list(euler_angle_rad.values()), ini_ea)]\n",
        "  lat, lon, alt = trans_vec_to_lla(one_frame_t, one_frame_R, scale_factor, ini_ea, ini_coordinates)\n",
        "\n",
        "  ini_frame = next_frame\n",
        "  ini_ea = pred_ins_euler_angle\n",
        "  ini_coordinates = [lat, lon, alt]\n",
        "\n",
        "\n",
        "df_of = pd.DataFrame(columns = df_OF_cols)\n",
        "\n",
        "data = {\n",
        "    'Timestamps': unix_timestamps_list,\n",
        "    'Roll_N': roll_list,\n",
        "    'Pitch_E': pitch_list,\n",
        "    'Yaw_U': yaw_list,\n",
        "    'Latitude': lat_list,\n",
        "    'Longitude': lon_list,\n",
        "    'Altitude': alt_list\n",
        "}\n",
        "\n",
        "\n",
        "df_of = pd.DataFrame(data)\n",
        "display(df_of.head(3))\n",
        "\n",
        "lt = time.time()\n",
        "\n",
        "print('Execution-time (UNIX): ', (lt - ft))"
      ]
    },
    {
      "cell_type": "code",
      "execution_count": 239,
      "metadata": {
        "id": "4CF1arlfJrSL"
      },
      "outputs": [],
      "source": [
        "df_of.to_csv(save_file_name, index=False)"
      ]
    },
    {
      "cell_type": "code",
      "execution_count": null,
      "metadata": {
        "id": "BkzpVluUJriO"
      },
      "outputs": [],
      "source": []
    },
    {
      "cell_type": "code",
      "execution_count": null,
      "metadata": {
        "id": "fuU33JmCJru_"
      },
      "outputs": [],
      "source": []
    },
    {
      "cell_type": "code",
      "execution_count": null,
      "metadata": {
        "id": "8z06hYsOJyQU"
      },
      "outputs": [],
      "source": []
    },
    {
      "cell_type": "code",
      "execution_count": null,
      "metadata": {
        "id": "FI-vKagMJyjj"
      },
      "outputs": [],
      "source": []
    },
    {
      "cell_type": "code",
      "execution_count": null,
      "metadata": {
        "id": "u_Ka1xGPJyxi"
      },
      "outputs": [],
      "source": []
    }
  ],
  "metadata": {
    "colab": {
      "provenance": []
    },
    "kernelspec": {
      "display_name": "Python 3",
      "name": "python3"
    },
    "language_info": {
      "codemirror_mode": {
        "name": "ipython",
        "version": 3
      },
      "file_extension": ".py",
      "mimetype": "text/x-python",
      "name": "python",
      "nbconvert_exporter": "python",
      "pygments_lexer": "ipython3",
      "version": "3.10.12"
    }
  },
  "nbformat": 4,
  "nbformat_minor": 0
}
